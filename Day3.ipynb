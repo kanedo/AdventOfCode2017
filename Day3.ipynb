{
 "cells": [
  {
   "cell_type": "code",
   "execution_count": 1,
   "metadata": {},
   "outputs": [],
   "source": []
  },
  {
   "cell_type": "code",
   "execution_count": 2,
   "metadata": {},
   "outputs": [],
   "source": [
    "def rowForNumber(n):\n",
    "    tmp = n\n",
    "    for i in range(n):\n",
    "        tmp = tmp - i*8\n",
    "        if(tmp <= 0):\n",
    "            return i"
   ]
  },
  {
   "cell_type": "code",
   "execution_count": 3,
   "metadata": {},
   "outputs": [],
   "source": [
    "def endRow(k):\n",
    "    ik = 1\n",
    "    for i in range(1,k + 1):\n",
    "        ik = ik + i*8\n",
    "    return ik"
   ]
  },
  {
   "cell_type": "code",
   "execution_count": 4,
   "metadata": {},
   "outputs": [],
   "source": [
    "def startRow(k):\n",
    "    return endRow(k-1) +1"
   ]
  },
  {
   "cell_type": "code",
   "execution_count": 5,
   "metadata": {},
   "outputs": [],
   "source": [
    "def centersForRow(k):\n",
    "    end = endRow(k)\n",
    "    centers = []\n",
    "    centers.append(end - k)\n",
    "    for i in range(1,4):\n",
    "        centers.append(end - k - i*2*k)\n",
    "    return centers[::-1]"
   ]
  },
  {
   "cell_type": "code",
   "execution_count": 17,
   "metadata": {},
   "outputs": [],
   "source": [
    "def minDistance(n, centers):\n",
    "    dist = n\n",
    "    for center in centers:\n",
    "        dist = min(dist, abs(n-center))\n",
    "    return dist"
   ]
  },
  {
   "cell_type": "code",
   "execution_count": 38,
   "metadata": {},
   "outputs": [],
   "source": [
    "n=312051\n"
   ]
  },
  {
   "cell_type": "code",
   "execution_count": 39,
   "metadata": {},
   "outputs": [
    {
     "data": {
      "text/plain": [
       "279"
      ]
     },
     "execution_count": 39,
     "metadata": {},
     "output_type": "execute_result"
    }
   ],
   "source": [
    "row = rowForNumber(n)\n",
    "row"
   ]
  },
  {
   "cell_type": "code",
   "execution_count": 40,
   "metadata": {},
   "outputs": [
    {
     "data": {
      "text/plain": [
       "[310528, 311086, 311644, 312202]"
      ]
     },
     "execution_count": 40,
     "metadata": {},
     "output_type": "execute_result"
    }
   ],
   "source": [
    "centers =centersForRow(row)\n",
    "centers"
   ]
  },
  {
   "cell_type": "code",
   "execution_count": 41,
   "metadata": {},
   "outputs": [
    {
     "data": {
      "text/plain": [
       "151"
      ]
     },
     "execution_count": 41,
     "metadata": {},
     "output_type": "execute_result"
    }
   ],
   "source": [
    "dist = minDistance(n, centers)\n",
    "dist"
   ]
  },
  {
   "cell_type": "code",
   "execution_count": 42,
   "metadata": {},
   "outputs": [
    {
     "data": {
      "text/plain": [
       "430"
      ]
     },
     "execution_count": 42,
     "metadata": {},
     "output_type": "execute_result"
    }
   ],
   "source": [
    "dist + row"
   ]
  },
  {
   "cell_type": "code",
   "execution_count": 43,
   "metadata": {},
   "outputs": [
    {
     "data": {
      "text/plain": [
       "50"
      ]
     },
     "execution_count": 43,
     "metadata": {},
     "output_type": "execute_result"
    }
   ],
   "source": [
    "startRow(4)"
   ]
  },
  {
   "cell_type": "code",
   "execution_count": 97,
   "metadata": {},
   "outputs": [
    {
     "name": "stdout",
     "output_type": "stream",
     "text": [
      "4\n"
     ]
    }
   ],
   "source": []
  },
  {
   "cell_type": "code",
   "execution_count": 98,
   "metadata": {},
   "outputs": [
    {
     "data": {
      "text/plain": [
       "[57, 65, 73, 81]"
      ]
     },
     "execution_count": 98,
     "metadata": {},
     "output_type": "execute_result"
    }
   ],
   "source": [
    "def cornersForRow(k):\n",
    "    corners = []\n",
    "    val = endRow(k)\n",
    "    corners.append(val)\n",
    "    for i in range(1,4):\n",
    "        val = val - 2*k\n",
    "        corners.append(val)\n",
    "    return corners[::-1]\n",
    "cornersForRow(4)"
   ]
  },
  {
   "cell_type": "code",
   "execution_count": 99,
   "metadata": {},
   "outputs": [
    {
     "name": "stdout",
     "output_type": "stream",
     "text": [
      "number 68\n",
      "row 4\n"
     ]
    },
    {
     "data": {
      "text/plain": [
       "5"
      ]
     },
     "execution_count": 99,
     "metadata": {},
     "output_type": "execute_result"
    }
   ],
   "source": [
    "print(\"number\", n)\n",
    "print(\"row\", row)\n",
    "dist = 0\n",
    "if n in cornersForRow(row):\n",
    "    cornerDists = [2,4,6,8] \n",
    "    dist = cornerDists[cornersForRow(row).index(n)]\n",
    "else:\n",
    "    centerDists = [1,3,5,7]\n",
    "    centers = centersForRow(row)\n",
    "    minimum = n\n",
    "    index = 0\n",
    "    for i in range(4):\n",
    "        if abs(n - centers[i]) < minimum:\n",
    "            index = i\n",
    "            minimum = n - centers[i]\n",
    "    dist = centerDists[index]\n",
    "dist"
   ]
  },
  {
   "cell_type": "code",
   "execution_count": 100,
   "metadata": {},
   "outputs": [
    {
     "name": "stdout",
     "output_type": "stream",
     "text": [
      "50\n",
      "18\n",
      "26\n"
     ]
    },
    {
     "data": {
      "text/plain": [
       "39"
      ]
     },
     "execution_count": 100,
     "metadata": {},
     "output_type": "execute_result"
    }
   ],
   "source": [
    "startOfRow = startRow(row)\n",
    "print(startOfRow)\n",
    "distanceToStart = n - startOfRow\n",
    "print(distanceToStart)\n",
    "startOfPrevRow = startRow(row-1)\n",
    "print(startOfPrevRow)\n",
    "pos = startOfPrevRow + distanceToStart - dist\n",
    "pos\n"
   ]
  },
  {
   "cell_type": "code",
   "execution_count": 124,
   "metadata": {},
   "outputs": [
    {
     "name": "stdout",
     "output_type": "stream",
     "text": [
      "1 add 1 0\n",
      "2 add 1 0\n",
      "2 add 2 1\n",
      "3 add 1 0\n",
      "3 add 2 1\n",
      "4 add 1 0\n",
      "4 add 2 1\n",
      "value [1, 2, 5, 8, 11]\n"
     ]
    }
   ],
   "source": [
    "n=5\n",
    "value = [1]\n",
    "for i in range(1,n):\n",
    "    k = i + 1\n",
    "    row = rowForNumber(k)\n",
    "    dist = 0\n",
    "    if k in cornersForRow(row):\n",
    "        cornerDists = [2,4,6,8] \n",
    "        dist = cornerDists[cornersForRow(row).index(k)]\n",
    "    else:\n",
    "        centerDists = [1,3,5,7]\n",
    "        centers = centersForRow(row)\n",
    "        minimum = k\n",
    "        index = 0\n",
    "        for j in range(4):\n",
    "            if abs(k - centers[j]) < minimum:\n",
    "                index = j\n",
    "                minimum = k - centers[j]\n",
    "        dist = centerDists[index]\n",
    "    startOfRow = startRow(row)\n",
    "    distanceToStart = k - startOfRow\n",
    "    startOfPrevRow = startRow(row-1)\n",
    "    pos = startOfPrevRow + distanceToStart - dist\n",
    "    value.append(value[i-1])\n",
    "    if pos - 2 < i and pos -2 >= 0:\n",
    "        value[i] = value[i] + value[pos - 2] \n",
    "        print(i, \"add\", value[pos - 2], pos - 2)\n",
    "    if pos - 1< i and pos -1 >= 0:\n",
    "        value[i] = value[i] + value[pos -1]  \n",
    "        print(i, \"add\", value[pos-1], pos-1)\n",
    "    if pos < i and pos >= 0:\n",
    "        value[i] = value[i] + value[pos ]   \n",
    "        print(i, \"add\", value[pos], pos)\n",
    "print(\"value\", value)"
   ]
  },
  {
   "cell_type": "code",
   "execution_count": null,
   "metadata": {},
   "outputs": [],
   "source": []
  }
 ],
 "metadata": {
  "kernelspec": {
   "display_name": "Python 3",
   "language": "python",
   "name": "python3"
  },
  "language_info": {
   "codemirror_mode": {
    "name": "ipython",
    "version": 3
   },
   "file_extension": ".py",
   "mimetype": "text/x-python",
   "name": "python",
   "nbconvert_exporter": "python",
   "pygments_lexer": "ipython3",
   "version": "3.6.3"
  }
 },
 "nbformat": 4,
 "nbformat_minor": 2
}
