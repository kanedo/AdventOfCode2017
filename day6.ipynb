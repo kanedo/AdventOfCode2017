{
 "cells": [
  {
   "cell_type": "code",
   "execution_count": 67,
   "metadata": {},
   "outputs": [],
   "source": [
    "import operator"
   ]
  },
  {
   "cell_type": "code",
   "execution_count": 77,
   "metadata": {},
   "outputs": [],
   "source": [
    "inputDay6 = \"14\t0\t15\t12\t11\t11\t3\t5\t1\t6\t8\t4\t9\t1\t8\t4\""
   ]
  },
  {
   "cell_type": "code",
   "execution_count": 78,
   "metadata": {},
   "outputs": [],
   "source": [
    "memoryBank = list(map(int, inputDay6.split(\"\\t\")))\n",
    "memoryBank2 = list(memoryBank)\n",
    "key = ','.join(str(x) for x in memoryBank)\n",
    "visitedConfigurations = {}\n",
    "visitedConfigurations[key] = 1"
   ]
  },
  {
   "cell_type": "code",
   "execution_count": 79,
   "metadata": {},
   "outputs": [
    {
     "data": {
      "text/plain": [
       "11137"
      ]
     },
     "execution_count": 79,
     "metadata": {},
     "output_type": "execute_result"
    }
   ],
   "source": [
    "iterations = 0\n",
    "\n",
    "while(True):\n",
    "    m, val = max(enumerate(memoryBank), key=operator.itemgetter(1))\n",
    "    memoryBank[m] = 0\n",
    "    i = (m + 1) % len(memoryBank)\n",
    "    while val > 0:\n",
    "        memoryBank[i] += 1\n",
    "        val -= 1\n",
    "        i = ((i+1) % len(memoryBank))\n",
    "    iterations += 1\n",
    "    key = ','.join(str(x) for x in memoryBank)\n",
    "    if key in visitedConfigurations:\n",
    "        break\n",
    "    visitedConfigurations[key] = 1\n",
    "\n",
    "iterations"
   ]
  },
  {
   "cell_type": "code",
   "execution_count": 80,
   "metadata": {},
   "outputs": [
    {
     "name": "stdout",
     "output_type": "stream",
     "text": [
      "1037\n"
     ]
    },
    {
     "data": {
      "text/plain": [
       "11137"
      ]
     },
     "execution_count": 80,
     "metadata": {},
     "output_type": "execute_result"
    }
   ],
   "source": [
    "iterations = 0\n",
    "key = ','.join(str(x) for x in memoryBank2)\n",
    "visitedConfigurations = {}\n",
    "visitedConfigurations[key] = 0\n",
    "while(True):\n",
    "    m, val = max(enumerate(memoryBank2), key=operator.itemgetter(1))\n",
    "    memoryBank2[m] = 0\n",
    "    i = (m + 1) % len(memoryBank2)\n",
    "    while val > 0:\n",
    "        memoryBank2[i] += 1\n",
    "        val -= 1\n",
    "        i = ((i+1) % len(memoryBank2))\n",
    "    iterations += 1\n",
    "    key = ','.join(str(x) for x in memoryBank2)\n",
    "    if key in visitedConfigurations:\n",
    "        print(iterations - visitedConfigurations[key])\n",
    "        break\n",
    "    visitedConfigurations[key] = iterations"
   ]
  },
  {
   "cell_type": "code",
   "execution_count": null,
   "metadata": {},
   "outputs": [],
   "source": []
  }
 ],
 "metadata": {
  "kernelspec": {
   "display_name": "Python 3",
   "language": "python",
   "name": "python3"
  },
  "language_info": {
   "codemirror_mode": {
    "name": "ipython",
    "version": 3
   },
   "file_extension": ".py",
   "mimetype": "text/x-python",
   "name": "python",
   "nbconvert_exporter": "python",
   "pygments_lexer": "ipython3",
   "version": "3.6.3"
  }
 },
 "nbformat": 4,
 "nbformat_minor": 2
}
